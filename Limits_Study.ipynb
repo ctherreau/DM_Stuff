{
 "cells": [
  {
   "cell_type": "markdown",
   "metadata": {
    "deletable": true,
    "editable": true
   },
   "source": [
    "# Study of the Cross-section Limits "
   ]
  },
  {
   "cell_type": "code",
   "execution_count": 2,
   "metadata": {
    "collapsed": true,
    "deletable": true,
    "editable": true
   },
   "outputs": [],
   "source": [
    "import pax\n",
    "import hax"
   ]
  },
  {
   "cell_type": "code",
   "execution_count": 3,
   "metadata": {
    "collapsed": false,
    "deletable": true,
    "editable": true
   },
   "outputs": [],
   "source": [
    "from rootpy import ROOT"
   ]
  },
  {
   "cell_type": "code",
   "execution_count": 4,
   "metadata": {
    "collapsed": false,
    "deletable": true,
    "editable": true
   },
   "outputs": [],
   "source": [
    "import matplotlib\n",
    "import matplotlib.pyplot as plt\n",
    "import matplotlib.mlab as mlab\n",
    "\n",
    "matplotlib.rc('font', size=16)                   # Use big fonts...\n",
    "plt.rcParams['figure.figsize'] = (10.0, 8.0)    # ... and big plots\n",
    "plt.rc('font',**{'family':'serif','serif':['Times']})\n",
    "plt.rc('text', usetex=True)\n",
    "\n",
    "#List of font with matplotlib : \n",
    "\n",
    "# import matplotlib.font_manager\n",
    "# flist = matplotlib.font_manager.get_fontconfig_fonts()\n",
    "# names = [matplotlib.font_manager.FontProperties(fname=fname).get_name() for fname in flist]\n",
    "# print(names)\n",
    "\n",
    "\n",
    "import numpy as np\n",
    "from numpy import array\n",
    "import scipy as sp"
   ]
  },
  {
   "cell_type": "markdown",
   "metadata": {
    "deletable": true,
    "editable": true
   },
   "source": [
    "## Some Usefull parameters...."
   ]
  },
  {
   "cell_type": "code",
   "execution_count": 5,
   "metadata": {
    "collapsed": true,
    "deletable": true,
    "editable": true
   },
   "outputs": [],
   "source": [
    "# Parameters    \n",
    "rhozero = 0.3 # GeV.cm-3.c-2: Densité locale de la particule du WIMP, page 90 Lewin et Smith\n",
    "vzero = 230. # km/s: Vitesse de rotation de la galaxie, page 90 Lewin  et Smi\n",
    "vent =1.05* vzero #km/s: Vitesse du WIMP par rapport à la Terre (halo), page 3 Gif double\n",
    "A = 131. # Nombre de nucléon du noyau de Xénon\n",
    "sigmap = 2*pow(10.,-47.)"
   ]
  },
  {
   "cell_type": "markdown",
   "metadata": {},
   "source": [
    "## ....And Functions"
   ]
  },
  {
   "cell_type": "code",
   "execution_count": 6,
   "metadata": {
    "collapsed": false,
    "deletable": true,
    "editable": true
   },
   "outputs": [],
   "source": [
    "def MassReduced (m1, m2) :\n",
    "    return m1*m2/(m1+m2); "
   ]
  },
  {
   "cell_type": "code",
   "execution_count": 7,
   "metadata": {
    "collapsed": false,
    "deletable": true,
    "editable": true
   },
   "outputs": [],
   "source": [
    "def FormFactor(A, Er) :\n",
    "\n",
    "    #Fonction facteur de forme déjà au carré\n",
    "    \n",
    "    thickness = 0.9 * pow(10.,-15.) # m:  Paramètre d'épaisseur de peau nucléaire, page 98 Lewin et Smith\n",
    "   \n",
    "    an = 1.14# constante rn  page 98 Lewin et Smith (identification avec équation page 94)\n",
    "    \n",
    "    bn=0 #  constante rn  page 98 Lewin et Smith (identification avec équation page 94)\n",
    "\n",
    "    qrn = (6.92 * pow(10. , -3.)) * pow(A, 0.5) * pow(Er, 0.5) *(an * pow(A, (1.0/3.0))+bn) #sans dimension page 94 Lewin et Smith\n",
    "    \n",
    "    #Tranfert d'impulsion entre le WIMP et le noyau cible, page 94 Lewin et Smith\n",
    "    TI= (pow(2 * 0.9315 * A * Er, 0.5))*pow(10.,-5.)/3 #kev.s/m \n",
    "    \n",
    "    #Fonction pour calculer le facteur de forme en considérant une sphère solide page 96 Lewin et Smith\n",
    "    j1 = ((np.sin(qrn)-(qrn * np.cos(qrn))) / (pow(qrn, 2.))) \n",
    "    \n",
    "    return pow((3 * j1 / qrn) * np.exp(-(pow((TI * thickness), 2.))/2), 2.)  \n",
    "\n"
   ]
  },
  {
   "cell_type": "code",
   "execution_count": 8,
   "metadata": {
    "collapsed": false,
    "deletable": true,
    "editable": true
   },
   "outputs": [],
   "source": [
    "from scipy import special\n",
    "\n",
    "def erreur( A,  Er, mreduite):\n",
    "# Les deux fonctions erreur réunies\n",
    "\n",
    "    # Vitesse de rotation de la galaxie, page 90 Lewin  et Smith\n",
    "    vzero = 230. # km/s\n",
    "    \n",
    "    #Vitesse du WIMP par rapport à la Terre (halo), page 3 Gif double\n",
    "    vent =1.05* vzero #km/s\n",
    "    \n",
    "    #Vitesse minimum du WIMP pour qu'il donne une énergie de recul au Xénon, page 3 Gif // Er est en keV et mreduite en GeV/c2\n",
    "    vmin = (pow((A * (0.9315 ) * Er)/(2 * pow(mreduite, 2.)), 0.5))*300 # km/s\n",
    "\n",
    "\n",
    "    return (special.erf((vmin+vent)/vzero)-special.erf((vmin-vent)/vzero))\n"
   ]
  },
  {
   "cell_type": "code",
   "execution_count": 9,
   "metadata": {
    "collapsed": false,
    "deletable": true,
    "editable": true
   },
   "outputs": [],
   "source": [
    "def Rate(sigmazero, rhozero, vent, mchi, mreduite,A, Er):\n",
    "# Fonction calculant dR/dEr\n",
    "\n",
    "    N = 4.3685*pow(10., 41.)# // Facteur de normalisation de la fonction\n",
    "    \n",
    "    return (((sigmazero * rhozero) / (4 * vent * mchi * pow(mreduite, 2.))) * (FormFactor(A, Er)) * (erreur(A, Er, mreduite))*N)"
   ]
  },
  {
   "cell_type": "markdown",
   "metadata": {
    "deletable": true,
    "editable": true
   },
   "source": [
    "## Efficiency for XENON1T"
   ]
  },
  {
   "cell_type": "code",
   "execution_count": 10,
   "metadata": {
    "collapsed": false,
    "deletable": true,
    "editable": true
   },
   "outputs": [],
   "source": [
    "offset=1\n",
    "eff =[ 0.        ,  0.        ,  0.02439024,  0.11654135,  0.28268551,\n",
    "        0.46520147,  0.59328358,  0.69034749,  0.76760563,  0.79422383,\n",
    "        0.82068966,  0.82954545,  0.83846154,  0.84842105,  0.84701493,\n",
    "        0.84536082,  0.84558824,  0.84590164,  0.85347222,  0.84814815,\n",
    "        0.85074627,  0.84590164,  0.84210526,  0.84642857,  0.84074074,\n",
    "        0.8437037 ,  0.84532374,  0.84140351,  0.83933333,  0.83458647,\n",
    "        0.83458647,  0.81727575,  0.8045977 ,  0.78346457,  0.74919355,\n",
    "        0.70895522,  0.66793893,  0.60714286,  0.54676806,  0.48776978,\n",
    "        0.41077441,  0.34928571,  0.28476821,  0.2260274 ,  0.17589577,\n",
    "        0.13333333,  0.09395973,  0.06802721,  0.04895105,  0.03370787,\n",
    "        0.02135231,  0.01153846,  0.00711744,  0.00408163,  0.00361011,\n",
    "        0.        ,  0.        ,  0.        ,  0.        ,  0.        ,\n",
    "        0.        ,  0.        ,  0.        ,  0.        ,  0.        ,\n",
    "        0.        ,  0.        ,  0.        ,  0.        ,  0.        ,\n",
    "        0.        ,  0.        ,  0.        ,  0.        ,  0.        ,\n",
    "        0.        ,  0.        ,  0.        ,  0.        ,  0.        ,\n",
    "        0.        ,  0.        ,  0.        ,  0.        ,  0.        ,\n",
    "        0.        ,  0.        ,  0.        ,  0.        ,  0.        ,\n",
    "        0.        ,  0.        ,  0.        ,  0.        ,  0.        ,\n",
    "        0.        ,  0.        ,  0.        ,  0.        ,  0.       ]\n",
    "      \n",
    "Er=[]      \n",
    "for i in range (0,100): \n",
    "    Er.append(i+0.5+offset)"
   ]
  },
  {
   "cell_type": "code",
   "execution_count": 11,
   "metadata": {
    "collapsed": false
   },
   "outputs": [
    {
     "data": {
      "image/png": "[encoded data removed]",
      "text/plain": [
       "<matplotlib.figure.Figure at 0x7fa79aad99b0>"
      ]
     },
     "metadata": {},
     "output_type": "display_data"
    }
   ],
   "source": [
    "EffPlot=plt.plot(Er,eff, \"r.\")\n",
    "plt.xlabel(\"Recoil Energy (keV)\")\n",
    "plt.ylabel(\"Efficiency\")\n",
    "plt.show()"
   ]
  },
  {
   "cell_type": "markdown",
   "metadata": {
    "deletable": true,
    "editable": true
   },
   "source": [
    "## Differential Rate (based on Lewin and Smith) for a Wimps Mass of 35 GeV and $\\sigma_p = 10^{-47}$"
   ]
  },
  {
   "cell_type": "code",
   "execution_count": 12,
   "metadata": {
    "collapsed": false,
    "deletable": true,
    "editable": true
   },
   "outputs": [],
   "source": [
    "# Differential Rate for a Wimps mass of 35 GeV as a function of Er\n",
    "\n",
    "mchi =35 # WIMP mass\n",
    "\n",
    "xdiffrate=[] # = Recoil Energy-offset\n",
    "diffrate=[]  \n",
    "\n",
    "mreduite = MassReduced (mchi, A*0.9315)\n",
    "mReduiteProton= MassReduced(mchi,938.2720*pow(10.,-3))\n",
    "\n",
    "# Sigma Zero based on Lewun and Smith\n",
    "sigmazero = sigmap*pow(A,2)*pow(mreduite,2)/pow(mReduiteProton,2) # Sigma_p = 10^-47 cm²\n",
    "\n",
    "for i in range(0,2000):\n",
    "    #Offset influence the efficiency not the differential rate\n",
    "    xdiffrate.append(i*0.1+1)\n",
    "    diffrate.append(Rate(sigmazero, rhozero, vent, mchi, mreduite, A,xdiffrate[i])) \n",
    "    \n",
    "                                                        "
   ]
  },
  {
   "cell_type": "code",
   "execution_count": 13,
   "metadata": {
    "collapsed": false,
    "deletable": true,
    "editable": true,
    "scrolled": false
   },
   "outputs": [
    {
     "data": {
      "image/png": "[encoded data removed]",
      "text/plain": [
       "<matplotlib.figure.Figure at 0x7fa79b2f1a58>"
      ]
     },
     "metadata": {},
     "output_type": "display_data"
    }
   ],
   "source": [
    "DiffPlot=plt.semilogy(xdiffrate,diffrate)\n",
    "plt.xlabel(\"Recoil Energy (keV)\")\n",
    "plt.ylabel(\"Differential Rate (/kg/keV/day)\")\n",
    "plt.show()"
   ]
  },
  {
   "cell_type": "markdown",
   "metadata": {
    "collapsed": true,
    "deletable": true,
    "editable": true
   },
   "source": [
    "## Number of event with XENON1T for a WIMP mass of 35 GeV and $\\sigma_p = 10^{-47}$\n",
    "\n",
    "Differential rate * detection efficiency => Number Of Event /kg/keV/day"
   ]
  },
  {
   "cell_type": "code",
   "execution_count": 14,
   "metadata": {
    "collapsed": true
   },
   "outputs": [],
   "source": [
    "# from scipy import signal\n",
    "# NumberOfEvent_final=[]\n",
    "# NumberOfEvent= signal.convolve(eff, diffrate) \n",
    "# for i in range(0,100):\n",
    "#     NumberOfEvent_final.append(NumberOfEvent[i])"
   ]
  },
  {
   "cell_type": "code",
   "execution_count": 30,
   "metadata": {
    "collapsed": false,
    "deletable": true,
    "editable": true
   },
   "outputs": [],
   "source": [
    "# # Get the Er values\n",
    "# ErValues=DiffPlot[0].get_xdata()\n",
    "# # Get Eff value\n",
    "# EffValues=EffPlot[0].get_ydata()\n",
    "# # Get Differential value\n",
    "# DiffValues=DiffPlot[0].get_ydata()\n",
    "# NumberOfEvent=[]\n",
    "# #Efficiency * Differential Rate for each Recoil Energy\n",
    "# NumberOfEvent=[]\n",
    "# for i in range (0,len(Er)):\n",
    "#     idx= np.where(ErValues==Er[i])\n",
    "#     NumberOfEvent.append(np.convolve(DiffValues[idx],eff[i]))\n",
    "# NumberOfEvent=np.concatenate(NumberOfEvent)"
   ]
  },
  {
   "cell_type": "code",
   "execution_count": 56,
   "metadata": {
    "collapsed": true
   },
   "outputs": [],
   "source": [
    "\n",
    "#Efficiency * Differential Rate for each Recoil Energy\n",
    "NumberOfEvent=[]\n",
    "for i in range (0,len(Er)):\n",
    "    idx= np.where(ErValues==Er[i])\n",
    "    NumberOfEvent.append(np.convolve(Rate(sigmazero, rhozero, vent, mchi, mreduite, A,Er[i]),eff[i]))\n",
    "NumberOfEvent=np.concatenate(NumberOfEvent)"
   ]
  },
  {
   "cell_type": "code",
   "execution_count": 57,
   "metadata": {
    "collapsed": false,
    "deletable": true,
    "editable": true,
    "scrolled": false
   },
   "outputs": [
    {
     "data": {
      "image/png": "[encoded data removed]",
      "text/plain": [
       "<matplotlib.figure.Figure at 0x7fa79807f940>"
      ]
     },
     "metadata": {},
     "output_type": "display_data"
    }
   ],
   "source": [
    "#plt.xlim(0,120)   \n",
    "plt.plot(Er,NumberOfEvent)\n",
    "plt.xlabel(\"Recoil Energy (KeV)\")\n",
    "plt.ylabel(\"Number of Event (event/kg/keV/day)\")\n",
    "plt.show()"
   ]
  },
  {
   "cell_type": "code",
   "execution_count": 18,
   "metadata": {
    "collapsed": false,
    "deletable": true,
    "editable": true
   },
   "outputs": [],
   "source": [
    "# # Test PyROOT\n",
    "# h = ROOT.TH2D(\"h\",\"test ROOT\",100,0,120,100,0,0.00007)\n",
    "# h.SetTitle(\";Er;Event\")\n",
    "# h.SetMarkerStyle(1)\n",
    "# ROOT.gStyle.SetOptFit(1111)\n",
    "# ROOT.gStyle.SetOptStat(0)\n",
    "\n",
    "# for i in range (0,len(xer)):\n",
    "#     h.Fill(xer[i], NumberOfEvent[i])\n",
    "\n",
    "# print(h.Integral())\n",
    "# h"
   ]
  },
  {
   "cell_type": "markdown",
   "metadata": {
    "deletable": true,
    "editable": true
   },
   "source": [
    "# Event Rate as a function of the WIMP mass"
   ]
  },
  {
   "cell_type": "code",
   "execution_count": 70,
   "metadata": {
    "collapsed": false,
    "deletable": true,
    "editable": true,
    "scrolled": false
   },
   "outputs": [],
   "source": [
    "from numpy import trapz\n",
    "from scipy import integrate\n",
    "n_mass=1000 \n",
    "Xmass=[]    \n",
    "Integral=[]\n",
    "\n",
    "n = len(Er)  \n",
    "for m in range (5,1000):\n",
    "    Xmass.append(1.0*m) \n",
    "    mchi = 1.0*m\n",
    "    mreduite = MassReduced (mchi, A*0.9315)\n",
    "    mReduiteProton= MassReduced(mchi,938.2720*pow(10.,-3))\n",
    "    sigmazero = (sigmap*pow(A,2)*pow(mreduite,2))/pow(mReduiteProton,2)   \n",
    "    #eff*taux pour mchi = m \n",
    "    y=[]  \n",
    "  #  h = ROOT.TH2D(\"h\",\"test ROOT\",100,0,120,100,0,0.00007)\n",
    "\n",
    "    for i in range (0,n):\n",
    "        y.append(np.convolve(Rate(sigmazero, rhozero, vent, mchi, mreduite, A, Er[i]),eff[i]))\n",
    "\n",
    "    Integral.append(trapz(np.concatenate(y)))\n"
   ]
  },
  {
   "cell_type": "code",
   "execution_count": 90,
   "metadata": {
    "collapsed": false,
    "deletable": true,
    "editable": true
   },
   "outputs": [
    {
     "data": {
      "image/png": "[encoded data removed]",
      "text/plain": [
       "<matplotlib.figure.Figure at 0x7fa7980a7da0>"
      ]
     },
     "metadata": {},
     "output_type": "display_data"
    }
   ],
   "source": [
    "plt.plot(Xmass,Integral)\n",
    "plt.ylabel(\"Number of Event /kg/day\")\n",
    "plt.xlabel(\"WIMPs mass (GeV)\")\n",
    "plt.ticklabel_format(axis='y', style='sci', scilimits=(0,2))\n",
    "plt.show()  "
   ]
  },
  {
   "cell_type": "code",
   "execution_count": 109,
   "metadata": {
    "collapsed": false,
    "deletable": true,
    "editable": true
   },
   "outputs": [
    {
     "name": "stdout",
     "output_type": "stream",
     "text": [
      "Maximal Event Rate for a WIMP mass of 49.0 GeV.\n"
     ]
    },
    {
     "name": "stderr",
     "output_type": "stream",
     "text": [
      "/project/lgrandi/anaconda3/envs/pax_head/lib/python3.4/site-packages/ipykernel/__main__.py:6: VisibleDeprecationWarning: converting an array with ndim > 0 to an index will result in an error in the future\n"
     ]
    }
   ],
   "source": [
    "max_y = max(Integral)  # Find the maximum y value\n",
    "\n",
    "where= np.where(Integral==max_y)\n",
    "max_x= where[0]\n",
    "\n",
    "print(\"Maximal Event Rate for a WIMP mass of\", Xmass[max_x], \"GeV.\")\n"
   ]
  }
 ],
 "metadata": {
  "kernelspec": {
   "display_name": "Python 3",
   "language": "python",
   "name": "python3"
  }
 },
 "nbformat": 4,
 "nbformat_minor": 0
}
